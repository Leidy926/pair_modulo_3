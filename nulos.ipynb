{
 "cells": [
  {
   "cell_type": "code",
   "execution_count": 1,
   "id": "3c5389d6",
   "metadata": {},
   "outputs": [],
   "source": [
    "import pandas as pd\n",
    "import numpy as np"
   ]
  },
  {
   "cell_type": "code",
   "execution_count": 2,
   "id": "3ccb4d3d",
   "metadata": {},
   "outputs": [],
   "source": [
    "from sklearn.impute import SimpleImputer\n",
    "from sklearn.experimental import enable_iterative_imputer\n",
    "from sklearn.impute import IterativeImputer\n",
    "from sklearn.impute import KNNImputer"
   ]
  },
  {
   "cell_type": "code",
   "execution_count": 3,
   "id": "010b38b3",
   "metadata": {},
   "outputs": [],
   "source": [
    "import seaborn as sns\n",
    "import matplotlib.pyplot as plt"
   ]
  },
  {
   "cell_type": "code",
   "execution_count": 8,
   "id": "fadc8529",
   "metadata": {},
   "outputs": [
    {
     "data": {
      "text/html": [
       "<div>\n",
       "<style scoped>\n",
       "    .dataframe tbody tr th:only-of-type {\n",
       "        vertical-align: middle;\n",
       "    }\n",
       "\n",
       "    .dataframe tbody tr th {\n",
       "        vertical-align: top;\n",
       "    }\n",
       "\n",
       "    .dataframe thead th {\n",
       "        text-align: right;\n",
       "    }\n",
       "</style>\n",
       "<table border=\"1\" class=\"dataframe\">\n",
       "  <thead>\n",
       "    <tr style=\"text-align: right;\">\n",
       "      <th></th>\n",
       "      <th>title</th>\n",
       "      <th>price</th>\n",
       "      <th>retail_price</th>\n",
       "      <th>units_sold</th>\n",
       "      <th>uses_ad_boosts</th>\n",
       "      <th>rating_sold</th>\n",
       "      <th>rating_count</th>\n",
       "      <th>rating_five_count</th>\n",
       "      <th>rating_four_count</th>\n",
       "      <th>rating_three_count</th>\n",
       "      <th>...</th>\n",
       "      <th>listed_products</th>\n",
       "      <th>total_units_sold</th>\n",
       "      <th>mean_units_sold_per_product</th>\n",
       "      <th>rating_employee</th>\n",
       "      <th>merchant_ratings_count</th>\n",
       "      <th>mean_product_prices</th>\n",
       "      <th>mean_retail_prices</th>\n",
       "      <th>mean_product_ratings_count</th>\n",
       "      <th>discount_percentage</th>\n",
       "      <th>seller_reputation</th>\n",
       "    </tr>\n",
       "  </thead>\n",
       "  <tbody>\n",
       "    <tr>\n",
       "      <th>0</th>\n",
       "      <td>2020 Summer Vintage Flamingo Print  Pajamas Se...</td>\n",
       "      <td>16.00</td>\n",
       "      <td>14</td>\n",
       "      <td>100</td>\n",
       "      <td>No</td>\n",
       "      <td>3.76</td>\n",
       "      <td>54</td>\n",
       "      <td>26.0</td>\n",
       "      <td>8.0</td>\n",
       "      <td>10.0</td>\n",
       "      <td>...</td>\n",
       "      <td>1</td>\n",
       "      <td>100</td>\n",
       "      <td>100.0</td>\n",
       "      <td>4.129</td>\n",
       "      <td>568.0</td>\n",
       "      <td>16.00</td>\n",
       "      <td>14.00</td>\n",
       "      <td>54.0</td>\n",
       "      <td>14.29</td>\n",
       "      <td>Buena</td>\n",
       "    </tr>\n",
       "    <tr>\n",
       "      <th>1</th>\n",
       "      <td>SSHOUSE Summer Casual Sleeveless Soirée Party ...</td>\n",
       "      <td>8.00</td>\n",
       "      <td>22</td>\n",
       "      <td>20000</td>\n",
       "      <td>Si</td>\n",
       "      <td>3.45</td>\n",
       "      <td>6135</td>\n",
       "      <td>2269.0</td>\n",
       "      <td>1027.0</td>\n",
       "      <td>1118.0</td>\n",
       "      <td>...</td>\n",
       "      <td>6</td>\n",
       "      <td>21400</td>\n",
       "      <td>3567.0</td>\n",
       "      <td>3.900</td>\n",
       "      <td>17752.0</td>\n",
       "      <td>5.68</td>\n",
       "      <td>10.33</td>\n",
       "      <td>1057.0</td>\n",
       "      <td>-63.64</td>\n",
       "      <td>Regular</td>\n",
       "    </tr>\n",
       "    <tr>\n",
       "      <th>2</th>\n",
       "      <td>Nouvelle mode d'été femmes robe décontractée c...</td>\n",
       "      <td>4.90</td>\n",
       "      <td>8</td>\n",
       "      <td>1000</td>\n",
       "      <td>Si</td>\n",
       "      <td>3.83</td>\n",
       "      <td>99</td>\n",
       "      <td>43.0</td>\n",
       "      <td>18.0</td>\n",
       "      <td>23.0</td>\n",
       "      <td>...</td>\n",
       "      <td>6</td>\n",
       "      <td>21400</td>\n",
       "      <td>3567.0</td>\n",
       "      <td>3.900</td>\n",
       "      <td>17752.0</td>\n",
       "      <td>5.68</td>\n",
       "      <td>10.33</td>\n",
       "      <td>1057.0</td>\n",
       "      <td>-38.75</td>\n",
       "      <td>Regular</td>\n",
       "    </tr>\n",
       "    <tr>\n",
       "      <th>3</th>\n",
       "      <td>Summer Women s Fashion Lace Up Tie Pants Plus...</td>\n",
       "      <td>4.93</td>\n",
       "      <td>6</td>\n",
       "      <td>100</td>\n",
       "      <td>No</td>\n",
       "      <td>3.77</td>\n",
       "      <td>47</td>\n",
       "      <td>22.0</td>\n",
       "      <td>7.0</td>\n",
       "      <td>8.0</td>\n",
       "      <td>...</td>\n",
       "      <td>6</td>\n",
       "      <td>21400</td>\n",
       "      <td>3567.0</td>\n",
       "      <td>3.900</td>\n",
       "      <td>17752.0</td>\n",
       "      <td>5.68</td>\n",
       "      <td>10.33</td>\n",
       "      <td>1057.0</td>\n",
       "      <td>-17.83</td>\n",
       "      <td>Regular</td>\n",
       "    </tr>\n",
       "    <tr>\n",
       "      <th>4</th>\n",
       "      <td>Nouvelle mode d'été femmes robe décontractée c...</td>\n",
       "      <td>5.65</td>\n",
       "      <td>10</td>\n",
       "      <td>100</td>\n",
       "      <td>Si</td>\n",
       "      <td>2.86</td>\n",
       "      <td>7</td>\n",
       "      <td>1.0</td>\n",
       "      <td>1.0</td>\n",
       "      <td>2.0</td>\n",
       "      <td>...</td>\n",
       "      <td>6</td>\n",
       "      <td>21400</td>\n",
       "      <td>3567.0</td>\n",
       "      <td>3.900</td>\n",
       "      <td>17752.0</td>\n",
       "      <td>5.68</td>\n",
       "      <td>10.33</td>\n",
       "      <td>1057.0</td>\n",
       "      <td>-43.50</td>\n",
       "      <td>Regular</td>\n",
       "    </tr>\n",
       "  </tbody>\n",
       "</table>\n",
       "<p>5 rows × 40 columns</p>\n",
       "</div>"
      ],
      "text/plain": [
       "                                               title  price  retail_price  \\\n",
       "0  2020 Summer Vintage Flamingo Print  Pajamas Se...  16.00            14   \n",
       "1  SSHOUSE Summer Casual Sleeveless Soirée Party ...   8.00            22   \n",
       "2  Nouvelle mode d'été femmes robe décontractée c...   4.90             8   \n",
       "3   Summer Women s Fashion Lace Up Tie Pants Plus...   4.93             6   \n",
       "4  Nouvelle mode d'été femmes robe décontractée c...   5.65            10   \n",
       "\n",
       "   units_sold uses_ad_boosts  rating_sold  rating_count  rating_five_count  \\\n",
       "0         100             No         3.76            54               26.0   \n",
       "1       20000             Si         3.45          6135             2269.0   \n",
       "2        1000             Si         3.83            99               43.0   \n",
       "3         100             No         3.77            47               22.0   \n",
       "4         100             Si         2.86             7                1.0   \n",
       "\n",
       "   rating_four_count  rating_three_count  ...  listed_products  \\\n",
       "0                8.0                10.0  ...                1   \n",
       "1             1027.0              1118.0  ...                6   \n",
       "2               18.0                23.0  ...                6   \n",
       "3                7.0                 8.0  ...                6   \n",
       "4                1.0                 2.0  ...                6   \n",
       "\n",
       "   total_units_sold mean_units_sold_per_product rating_employee  \\\n",
       "0               100                       100.0           4.129   \n",
       "1             21400                      3567.0           3.900   \n",
       "2             21400                      3567.0           3.900   \n",
       "3             21400                      3567.0           3.900   \n",
       "4             21400                      3567.0           3.900   \n",
       "\n",
       "  merchant_ratings_count mean_product_prices mean_retail_prices  \\\n",
       "0                  568.0               16.00              14.00   \n",
       "1                17752.0                5.68              10.33   \n",
       "2                17752.0                5.68              10.33   \n",
       "3                17752.0                5.68              10.33   \n",
       "4                17752.0                5.68              10.33   \n",
       "\n",
       "  mean_product_ratings_count discount_percentage  seller_reputation  \n",
       "0                       54.0               14.29              Buena  \n",
       "1                     1057.0              -63.64            Regular  \n",
       "2                     1057.0              -38.75            Regular  \n",
       "3                     1057.0              -17.83            Regular  \n",
       "4                     1057.0              -43.50            Regular  \n",
       "\n",
       "[5 rows x 40 columns]"
      ]
     },
     "execution_count": 8,
     "metadata": {},
     "output_type": "execute_result"
    }
   ],
   "source": [
    "data4 = pd.read_csv(\"Merchant_ejercicios_apply.csv.csv\", index_col = 0)\n",
    "data4.head()"
   ]
  },
  {
   "cell_type": "code",
   "execution_count": 9,
   "id": "04bb9cbc",
   "metadata": {},
   "outputs": [
    {
     "data": {
      "text/plain": [
       "title                            0\n",
       "price                            0\n",
       "retail_price                     0\n",
       "units_sold                       0\n",
       "uses_ad_boosts                   0\n",
       "rating_sold                      0\n",
       "rating_count                     0\n",
       "rating_five_count               45\n",
       "rating_four_count               45\n",
       "rating_three_count              45\n",
       "rating_two_count                45\n",
       "rating_one_count                45\n",
       "badge_local_product              0\n",
       "badge_product_quality            0\n",
       "badge_fast_shipping              0\n",
       "tags                             0\n",
       "product_color                   41\n",
       "product_variation_size_id       14\n",
       "shipping_option_name             0\n",
       "shipping_option_price            0\n",
       "shipping_is_express              0\n",
       "countries_shipped_to             0\n",
       "inventory_total                  0\n",
       "origin_country                  17\n",
       "merchant_name                    4\n",
       "merchant_info_subtitle         294\n",
       "merchant_rating_count            0\n",
       "merchant_id                      0\n",
       "product_url                      0\n",
       "product_id                       0\n",
       "listed_products                  0\n",
       "total_units_sold                 0\n",
       "mean_units_sold_per_product      0\n",
       "rating_employee                  0\n",
       "merchant_ratings_count           0\n",
       "mean_product_prices              0\n",
       "mean_retail_prices               0\n",
       "mean_product_ratings_count       0\n",
       "discount_percentage              0\n",
       "seller_reputation                0\n",
       "dtype: int64"
      ]
     },
     "execution_count": 9,
     "metadata": {},
     "output_type": "execute_result"
    }
   ],
   "source": [
    "nulos = data4.isnull().sum()\n",
    "nulos"
   ]
  },
  {
   "cell_type": "code",
   "execution_count": 10,
   "id": "589e4bca",
   "metadata": {},
   "outputs": [
    {
     "data": {
      "text/plain": [
       "1573"
      ]
     },
     "execution_count": 10,
     "metadata": {},
     "output_type": "execute_result"
    }
   ],
   "source": [
    "data4.shape[0]"
   ]
  },
  {
   "cell_type": "code",
   "execution_count": 11,
   "id": "927189b8",
   "metadata": {},
   "outputs": [
    {
     "data": {
      "text/plain": [
       "merchant_info_subtitle         18.690401\n",
       "rating_five_count               2.860776\n",
       "rating_four_count               2.860776\n",
       "rating_three_count              2.860776\n",
       "rating_two_count                2.860776\n",
       "rating_one_count                2.860776\n",
       "product_color                   2.606484\n",
       "origin_country                  1.080737\n",
       "product_variation_size_id       0.890019\n",
       "merchant_name                   0.254291\n",
       "listed_products                 0.000000\n",
       "merchant_rating_count           0.000000\n",
       "merchant_id                     0.000000\n",
       "product_url                     0.000000\n",
       "product_id                      0.000000\n",
       "title                           0.000000\n",
       "total_units_sold                0.000000\n",
       "mean_units_sold_per_product     0.000000\n",
       "merchant_ratings_count          0.000000\n",
       "mean_product_prices             0.000000\n",
       "mean_retail_prices              0.000000\n",
       "mean_product_ratings_count      0.000000\n",
       "discount_percentage             0.000000\n",
       "rating_employee                 0.000000\n",
       "shipping_is_express             0.000000\n",
       "inventory_total                 0.000000\n",
       "countries_shipped_to            0.000000\n",
       "price                           0.000000\n",
       "shipping_option_price           0.000000\n",
       "shipping_option_name            0.000000\n",
       "tags                            0.000000\n",
       "badge_fast_shipping             0.000000\n",
       "badge_product_quality           0.000000\n",
       "badge_local_product             0.000000\n",
       "rating_count                    0.000000\n",
       "rating_sold                     0.000000\n",
       "uses_ad_boosts                  0.000000\n",
       "units_sold                      0.000000\n",
       "retail_price                    0.000000\n",
       "seller_reputation               0.000000\n",
       "dtype: float64"
      ]
     },
     "execution_count": 11,
     "metadata": {},
     "output_type": "execute_result"
    }
   ],
   "source": [
    "nulos = data4.isnull().sum()/data4.shape[0]*100\n",
    "# % nulos ordenados de mayor a menor\n",
    "nulos.sort_values(ascending=False)"
   ]
  },
  {
   "cell_type": "code",
   "execution_count": null,
   "id": "4893e39a",
   "metadata": {},
   "outputs": [],
   "source": [
    "# ¿Qué columnas tienen nulos?"
   ]
  },
  {
   "cell_type": "code",
   "execution_count": 12,
   "id": "506914cb",
   "metadata": {},
   "outputs": [
    {
     "data": {
      "text/plain": [
       "merchant_info_subtitle       18.690401\n",
       "rating_five_count             2.860776\n",
       "rating_four_count             2.860776\n",
       "rating_three_count            2.860776\n",
       "rating_two_count              2.860776\n",
       "rating_one_count              2.860776\n",
       "product_color                 2.606484\n",
       "origin_country                1.080737\n",
       "product_variation_size_id     0.890019\n",
       "merchant_name                 0.254291\n",
       "dtype: float64"
      ]
     },
     "execution_count": 12,
     "metadata": {},
     "output_type": "execute_result"
    }
   ],
   "source": [
    "# nos quedamos solo con variables que tienen algún nulo\n",
    "nulos = nulos[nulos > 0]\n",
    "nulos.sort_values(ascending=False)"
   ]
  },
  {
   "cell_type": "code",
   "execution_count": null,
   "id": "6ae2b8d8",
   "metadata": {},
   "outputs": [],
   "source": [
    "# Explorad los nulos que hay en el DataFrame."
   ]
  },
  {
   "cell_type": "code",
   "execution_count": 13,
   "id": "38f3c456",
   "metadata": {},
   "outputs": [
    {
     "data": {
      "text/html": [
       "<div>\n",
       "<style scoped>\n",
       "    .dataframe tbody tr th:only-of-type {\n",
       "        vertical-align: middle;\n",
       "    }\n",
       "\n",
       "    .dataframe tbody tr th {\n",
       "        vertical-align: top;\n",
       "    }\n",
       "\n",
       "    .dataframe thead th {\n",
       "        text-align: right;\n",
       "    }\n",
       "</style>\n",
       "<table border=\"1\" class=\"dataframe\">\n",
       "  <thead>\n",
       "    <tr style=\"text-align: right;\">\n",
       "      <th></th>\n",
       "      <th>var</th>\n",
       "      <th>perc_nulos</th>\n",
       "    </tr>\n",
       "  </thead>\n",
       "  <tbody>\n",
       "    <tr>\n",
       "      <th>0</th>\n",
       "      <td>rating_five_count</td>\n",
       "      <td>2.860776</td>\n",
       "    </tr>\n",
       "    <tr>\n",
       "      <th>1</th>\n",
       "      <td>rating_four_count</td>\n",
       "      <td>2.860776</td>\n",
       "    </tr>\n",
       "    <tr>\n",
       "      <th>2</th>\n",
       "      <td>rating_three_count</td>\n",
       "      <td>2.860776</td>\n",
       "    </tr>\n",
       "    <tr>\n",
       "      <th>3</th>\n",
       "      <td>rating_two_count</td>\n",
       "      <td>2.860776</td>\n",
       "    </tr>\n",
       "    <tr>\n",
       "      <th>4</th>\n",
       "      <td>rating_one_count</td>\n",
       "      <td>2.860776</td>\n",
       "    </tr>\n",
       "    <tr>\n",
       "      <th>5</th>\n",
       "      <td>product_color</td>\n",
       "      <td>2.606484</td>\n",
       "    </tr>\n",
       "    <tr>\n",
       "      <th>6</th>\n",
       "      <td>product_variation_size_id</td>\n",
       "      <td>0.890019</td>\n",
       "    </tr>\n",
       "    <tr>\n",
       "      <th>7</th>\n",
       "      <td>origin_country</td>\n",
       "      <td>1.080737</td>\n",
       "    </tr>\n",
       "    <tr>\n",
       "      <th>8</th>\n",
       "      <td>merchant_name</td>\n",
       "      <td>0.254291</td>\n",
       "    </tr>\n",
       "    <tr>\n",
       "      <th>9</th>\n",
       "      <td>merchant_info_subtitle</td>\n",
       "      <td>18.690401</td>\n",
       "    </tr>\n",
       "  </tbody>\n",
       "</table>\n",
       "</div>"
      ],
      "text/plain": [
       "                         var  perc_nulos\n",
       "0          rating_five_count    2.860776\n",
       "1          rating_four_count    2.860776\n",
       "2         rating_three_count    2.860776\n",
       "3           rating_two_count    2.860776\n",
       "4           rating_one_count    2.860776\n",
       "5              product_color    2.606484\n",
       "6  product_variation_size_id    0.890019\n",
       "7             origin_country    1.080737\n",
       "8              merchant_name    0.254291\n",
       "9     merchant_info_subtitle   18.690401"
      ]
     },
     "execution_count": 13,
     "metadata": {},
     "output_type": "execute_result"
    }
   ],
   "source": [
    "nulos = nulos.to_frame(name='perc_nulos').reset_index().rename(columns={'index': 'var'})\n",
    "nulos"
   ]
  },
  {
   "cell_type": "code",
   "execution_count": 14,
   "id": "2e0a127c",
   "metadata": {},
   "outputs": [
    {
     "data": {
      "text/plain": [
       "title                           object\n",
       "price                          float64\n",
       "retail_price                     int64\n",
       "units_sold                       int64\n",
       "uses_ad_boosts                  object\n",
       "rating_sold                    float64\n",
       "rating_count                     int64\n",
       "rating_five_count              float64\n",
       "rating_four_count              float64\n",
       "rating_three_count             float64\n",
       "rating_two_count               float64\n",
       "rating_one_count               float64\n",
       "badge_local_product             object\n",
       "badge_product_quality           object\n",
       "badge_fast_shipping             object\n",
       "tags                            object\n",
       "product_color                   object\n",
       "product_variation_size_id       object\n",
       "shipping_option_name            object\n",
       "shipping_option_price            int64\n",
       "shipping_is_express             object\n",
       "countries_shipped_to             int64\n",
       "inventory_total                  int64\n",
       "origin_country                  object\n",
       "merchant_name                   object\n",
       "merchant_info_subtitle          object\n",
       "merchant_rating_count            int64\n",
       "merchant_id                     object\n",
       "product_url                     object\n",
       "product_id                      object\n",
       "listed_products                  int64\n",
       "total_units_sold                 int64\n",
       "mean_units_sold_per_product    float64\n",
       "rating_employee                float64\n",
       "merchant_ratings_count         float64\n",
       "mean_product_prices            float64\n",
       "mean_retail_prices             float64\n",
       "mean_product_ratings_count     float64\n",
       "discount_percentage            float64\n",
       "seller_reputation               object\n",
       "dtype: object"
      ]
     },
     "execution_count": 14,
     "metadata": {},
     "output_type": "execute_result"
    }
   ],
   "source": [
    "# Separamos las variables con nulos en variables categóricas y numéricas. Pero antes, deberemos haber comprobado que su tipo de dato es correcto.\n",
    "data4.dtypes"
   ]
  },
  {
   "cell_type": "code",
   "execution_count": null,
   "id": "b242c30a",
   "metadata": {},
   "outputs": [],
   "source": [
    "# Con lo aprendido en la lección de hoy gestiona los nulos de la forma que consideres más correcta."
   ]
  },
  {
   "cell_type": "code",
   "execution_count": 15,
   "id": "e8bb7e52",
   "metadata": {},
   "outputs": [],
   "source": [
    "columnas_objeto = data4.select_dtypes(include=['object']).columns\n",
    "columnas_nulos = nulos['var'].to_list()"
   ]
  },
  {
   "cell_type": "code",
   "execution_count": null,
   "id": "62640578",
   "metadata": {},
   "outputs": [],
   "source": [
    "# este seria de las columnas con nulos"
   ]
  },
  {
   "cell_type": "code",
   "execution_count": 17,
   "id": "82000e33",
   "metadata": {},
   "outputs": [
    {
     "data": {
      "text/plain": [
       "['rating_five_count',\n",
       " 'rating_four_count',\n",
       " 'rating_three_count',\n",
       " 'rating_two_count',\n",
       " 'rating_one_count',\n",
       " 'product_color',\n",
       " 'product_variation_size_id',\n",
       " 'origin_country',\n",
       " 'merchant_name',\n",
       " 'merchant_info_subtitle']"
      ]
     },
     "execution_count": 17,
     "metadata": {},
     "output_type": "execute_result"
    }
   ],
   "source": [
    "columnas_nulos"
   ]
  },
  {
   "cell_type": "code",
   "execution_count": 18,
   "id": "f70ae882",
   "metadata": {},
   "outputs": [
    {
     "data": {
      "text/plain": [
       "Index(['product_color', 'product_variation_size_id', 'origin_country',\n",
       "       'merchant_name', 'merchant_info_subtitle'],\n",
       "      dtype='object')"
      ]
     },
     "execution_count": 18,
     "metadata": {},
     "output_type": "execute_result"
    }
   ],
   "source": [
    " # Quiero ver los datos del df de las variables categóricas con nulos\n",
    "columnas_objeto = data4.select_dtypes(include=['object']).columns\n",
    "columnas_nulos = nulos['var'].to_list()\n",
    "columnas_comunes_objeto_nulos = columnas_objeto.intersection(columnas_nulos)\n",
    "columnas_comunes_objeto_nulos "
   ]
  },
  {
   "cell_type": "markdown",
   "id": "df5876ea",
   "metadata": {},
   "source": []
  },
  {
   "cell_type": "code",
   "execution_count": 23,
   "id": "2bb6d330",
   "metadata": {},
   "outputs": [
    {
     "name": "stdout",
     "output_type": "stream",
     "text": [
      "La distribución de las categorías para la columna product_color\n"
     ]
    },
    {
     "data": {
      "text/plain": [
       "product_color\n",
       "black               0.191990\n",
       "white               0.161475\n",
       "yellow              0.066751\n",
       "pink                0.062937\n",
       "blue                0.062937\n",
       "                      ...   \n",
       "red & blue          0.000636\n",
       "winered & yellow    0.000636\n",
       "claret              0.000636\n",
       "lightpurple         0.000636\n",
       "gold                0.000636\n",
       "Name: count, Length: 101, dtype: float64"
      ]
     },
     "metadata": {},
     "output_type": "display_data"
    },
    {
     "name": "stdout",
     "output_type": "stream",
     "text": [
      "........................\n",
      "La distribución de las categorías para la columna product_variation_size_id\n"
     ]
    },
    {
     "data": {
      "text/plain": [
       "product_variation_size_id\n",
       "S            0.407502\n",
       "XS           0.226319\n",
       "M            0.127146\n",
       "XXS          0.063573\n",
       "L            0.031151\n",
       "               ...   \n",
       "White        0.000636\n",
       "32/L         0.000636\n",
       "Size XXS     0.000636\n",
       "Pack of 1    0.000636\n",
       "SIZE S       0.000636\n",
       "Name: count, Length: 106, dtype: float64"
      ]
     },
     "metadata": {},
     "output_type": "display_data"
    },
    {
     "name": "stdout",
     "output_type": "stream",
     "text": [
      "........................\n",
      "La distribución de las categorías para la columna origin_country\n"
     ]
    },
    {
     "data": {
      "text/plain": [
       "origin_country\n",
       "CN    0.963764\n",
       "US    0.019708\n",
       "VE    0.003179\n",
       "SG    0.001271\n",
       "AT    0.000636\n",
       "GB    0.000636\n",
       "Name: count, dtype: float64"
      ]
     },
     "metadata": {},
     "output_type": "display_data"
    },
    {
     "name": "stdout",
     "output_type": "stream",
     "text": [
      "........................\n",
      "La distribución de las categorías para la columna merchant_name\n"
     ]
    },
    {
     "data": {
      "text/plain": [
       "merchant_name\n",
       "广州唯适唯服饰有限公司                              0.009536\n",
       "greatexpectationstechnology              0.007629\n",
       "sjhdstoer                                0.005722\n",
       "shuilingjiaointernationaltradecompany    0.005086\n",
       "sangboostore                             0.005086\n",
       "                                           ...   \n",
       "asmalltwistofsweetfruit                  0.000636\n",
       "supumawallsticker                        0.000636\n",
       "haoyouduooo                              0.000636\n",
       "successed                                0.000636\n",
       "aishoppingmall                           0.000636\n",
       "Name: count, Length: 957, dtype: float64"
      ]
     },
     "metadata": {},
     "output_type": "display_data"
    },
    {
     "name": "stdout",
     "output_type": "stream",
     "text": [
      "........................\n",
      "La distribución de las categorías para la columna merchant_info_subtitle\n"
     ]
    },
    {
     "data": {
      "text/plain": [
       "merchant_info_subtitle\n",
       "86 % avis positifs         0.085823\n",
       "85 % avis positifs         0.082645\n",
       "87 % avis positifs         0.068023\n",
       "88 % avis positifs         0.066116\n",
       "84 % avis positifs         0.064844\n",
       "                             ...   \n",
       "83% Positives Feedback     0.000636\n",
       "61 % avis positifs         0.000636\n",
       "84% ردود فعل إيجابية       0.000636\n",
       "56 % avis positifs         0.000636\n",
       "84% Positive Feedback      0.000636\n",
       "Name: count, Length: 73, dtype: float64"
      ]
     },
     "metadata": {},
     "output_type": "display_data"
    },
    {
     "name": "stdout",
     "output_type": "stream",
     "text": [
      "........................\n"
     ]
    }
   ],
   "source": [
    "# Miramos la proporción de valores entre cada catgoría de las variables categóricas.\n",
    "for col in columnas_comunes_objeto_nulos:\n",
    "    print(f\"La distribución de las categorías para la columna\", col)\n",
    "    display(data4[col].value_counts() / data4.shape[0]) # display es una función utilizada para mostrar objetos de manera más legible en Jupyter Notebooks o entornos similares. \n",
    "    print(\"........................\")\n"
   ]
  },
  {
   "cell_type": "code",
   "execution_count": 21,
   "id": "7f9d2293",
   "metadata": {},
   "outputs": [
    {
     "data": {
      "text/html": [
       "<div>\n",
       "<style scoped>\n",
       "    .dataframe tbody tr th:only-of-type {\n",
       "        vertical-align: middle;\n",
       "    }\n",
       "\n",
       "    .dataframe tbody tr th {\n",
       "        vertical-align: top;\n",
       "    }\n",
       "\n",
       "    .dataframe thead th {\n",
       "        text-align: right;\n",
       "    }\n",
       "</style>\n",
       "<table border=\"1\" class=\"dataframe\">\n",
       "  <thead>\n",
       "    <tr style=\"text-align: right;\">\n",
       "      <th></th>\n",
       "      <th>var</th>\n",
       "      <th>perc_nulos</th>\n",
       "    </tr>\n",
       "  </thead>\n",
       "  <tbody>\n",
       "    <tr>\n",
       "      <th>0</th>\n",
       "      <td>rating_five_count</td>\n",
       "      <td>2.860776</td>\n",
       "    </tr>\n",
       "    <tr>\n",
       "      <th>1</th>\n",
       "      <td>rating_four_count</td>\n",
       "      <td>2.860776</td>\n",
       "    </tr>\n",
       "    <tr>\n",
       "      <th>2</th>\n",
       "      <td>rating_three_count</td>\n",
       "      <td>2.860776</td>\n",
       "    </tr>\n",
       "    <tr>\n",
       "      <th>3</th>\n",
       "      <td>rating_two_count</td>\n",
       "      <td>2.860776</td>\n",
       "    </tr>\n",
       "    <tr>\n",
       "      <th>4</th>\n",
       "      <td>rating_one_count</td>\n",
       "      <td>2.860776</td>\n",
       "    </tr>\n",
       "    <tr>\n",
       "      <th>5</th>\n",
       "      <td>product_color</td>\n",
       "      <td>2.606484</td>\n",
       "    </tr>\n",
       "    <tr>\n",
       "      <th>6</th>\n",
       "      <td>product_variation_size_id</td>\n",
       "      <td>0.890019</td>\n",
       "    </tr>\n",
       "    <tr>\n",
       "      <th>7</th>\n",
       "      <td>origin_country</td>\n",
       "      <td>1.080737</td>\n",
       "    </tr>\n",
       "    <tr>\n",
       "      <th>8</th>\n",
       "      <td>merchant_name</td>\n",
       "      <td>0.254291</td>\n",
       "    </tr>\n",
       "    <tr>\n",
       "      <th>9</th>\n",
       "      <td>merchant_info_subtitle</td>\n",
       "      <td>18.690401</td>\n",
       "    </tr>\n",
       "  </tbody>\n",
       "</table>\n",
       "</div>"
      ],
      "text/plain": [
       "                         var  perc_nulos\n",
       "0          rating_five_count    2.860776\n",
       "1          rating_four_count    2.860776\n",
       "2         rating_three_count    2.860776\n",
       "3           rating_two_count    2.860776\n",
       "4           rating_one_count    2.860776\n",
       "5              product_color    2.606484\n",
       "6  product_variation_size_id    0.890019\n",
       "7             origin_country    1.080737\n",
       "8              merchant_name    0.254291\n",
       "9     merchant_info_subtitle   18.690401"
      ]
     },
     "execution_count": 21,
     "metadata": {},
     "output_type": "execute_result"
    }
   ],
   "source": [
    "nulos"
   ]
  },
  {
   "cell_type": "code",
   "execution_count": null,
   "id": "0d4b6278",
   "metadata": {},
   "outputs": [],
   "source": [
    "# product_color tiene porcentaje bajo, no categoria dominante= nueva categoria\n",
    "# product_variation_size_id tiene porcentaje bajo,categoria dominante = imputar con moda\n",
    "# origin_country tiene porcentaje bajo,categoria dominante = imputar con moda\n",
    "# merchant_name tiene porcentaje bajo y no categpria dominante = nueva categoria\n",
    "# merchant_info_subtitle tiene alto porcentaje y no categoria dominante se impota con la moda"
   ]
  },
  {
   "cell_type": "code",
   "execution_count": null,
   "id": "d6fbeca9",
   "metadata": {},
   "outputs": [],
   "source": [
    "# analizar con variables numéricas"
   ]
  },
  {
   "cell_type": "code",
   "execution_count": 24,
   "id": "1e3f79a9",
   "metadata": {},
   "outputs": [
    {
     "data": {
      "text/plain": [
       "Index(['rating_five_count', 'rating_four_count', 'rating_three_count',\n",
       "       'rating_two_count', 'rating_one_count'],\n",
       "      dtype='object')"
      ]
     },
     "execution_count": 24,
     "metadata": {},
     "output_type": "execute_result"
    }
   ],
   "source": [
    "# Seleccionando variables numéricas con nulos en df\n",
    "columnas_numero = data4.select_dtypes(include=['number']).columns\n",
    "#columnas_nulos = nulos['var'].to_list()\n",
    "columnas_comunes_numero_nulos = columnas_numero.intersection(columnas_nulos)\n",
    "columnas_comunes_numero_nulos "
   ]
  },
  {
   "cell_type": "code",
   "execution_count": 25,
   "id": "203f0103",
   "metadata": {},
   "outputs": [
    {
     "data": {
      "image/png": "[encoded data removed]",
      "text/plain": [
       "<Figure size 800x500 with 1 Axes>"
      ]
     },
     "metadata": {},
     "output_type": "display_data"
    },
    {
     "data": {
      "image/png": "[encoded data removed]",
      "text/plain": [
       "<Figure size 800x500 with 1 Axes>"
      ]
     },
     "metadata": {},
     "output_type": "display_data"
    },
    {
     "data": {
      "image/png": "[encoded data removed]",
      "text/plain": [
       "<Figure size 800x500 with 1 Axes>"
      ]
     },
     "metadata": {},
     "output_type": "display_data"
    },
    {
     "data": {
      "image/png": "[encoded data removed]",
      "text/plain": [
       "<Figure size 800x500 with 1 Axes>"
      ]
     },
     "metadata": {},
     "output_type": "display_data"
    },
    {
     "data": {
      "image/png": "[encoded data removed]",
      "text/plain": [
       "<Figure size 800x500 with 1 Axes>"
      ]
     },
     "metadata": {},
     "output_type": "display_data"
    }
   ],
   "source": [
    "import matplotlib.pyplot as plt\n",
    "\n",
    "# Lista de columnas para las que quieres hacer histogramas\n",
    "\n",
    "# Crear un histograma separado para cada columna\n",
    "for col in list(columnas_comunes_numero_nulos):\n",
    "    plt.figure(figsize=(8, 5))\n",
    "    plt.hist(data4[col].dropna(), bins=30, color='skyblue', edgecolor='black')\n",
    "    plt.title(f'Histograma de {col}')\n",
    "    plt.xlabel(col)\n",
    "    plt.ylabel('Frecuencia')\n",
    "    plt.show()"
   ]
  },
  {
   "cell_type": "code",
   "execution_count": 26,
   "id": "7293de78",
   "metadata": {},
   "outputs": [
    {
     "data": {
      "text/html": [
       "<div>\n",
       "<style scoped>\n",
       "    .dataframe tbody tr th:only-of-type {\n",
       "        vertical-align: middle;\n",
       "    }\n",
       "\n",
       "    .dataframe tbody tr th {\n",
       "        vertical-align: top;\n",
       "    }\n",
       "\n",
       "    .dataframe thead th {\n",
       "        text-align: right;\n",
       "    }\n",
       "</style>\n",
       "<table border=\"1\" class=\"dataframe\">\n",
       "  <thead>\n",
       "    <tr style=\"text-align: right;\">\n",
       "      <th></th>\n",
       "      <th>var</th>\n",
       "      <th>perc_nulos</th>\n",
       "    </tr>\n",
       "  </thead>\n",
       "  <tbody>\n",
       "    <tr>\n",
       "      <th>0</th>\n",
       "      <td>rating_five_count</td>\n",
       "      <td>2.860776</td>\n",
       "    </tr>\n",
       "    <tr>\n",
       "      <th>1</th>\n",
       "      <td>rating_four_count</td>\n",
       "      <td>2.860776</td>\n",
       "    </tr>\n",
       "    <tr>\n",
       "      <th>2</th>\n",
       "      <td>rating_three_count</td>\n",
       "      <td>2.860776</td>\n",
       "    </tr>\n",
       "    <tr>\n",
       "      <th>3</th>\n",
       "      <td>rating_two_count</td>\n",
       "      <td>2.860776</td>\n",
       "    </tr>\n",
       "    <tr>\n",
       "      <th>4</th>\n",
       "      <td>rating_one_count</td>\n",
       "      <td>2.860776</td>\n",
       "    </tr>\n",
       "    <tr>\n",
       "      <th>5</th>\n",
       "      <td>product_color</td>\n",
       "      <td>2.606484</td>\n",
       "    </tr>\n",
       "    <tr>\n",
       "      <th>6</th>\n",
       "      <td>product_variation_size_id</td>\n",
       "      <td>0.890019</td>\n",
       "    </tr>\n",
       "    <tr>\n",
       "      <th>7</th>\n",
       "      <td>origin_country</td>\n",
       "      <td>1.080737</td>\n",
       "    </tr>\n",
       "    <tr>\n",
       "      <th>8</th>\n",
       "      <td>merchant_name</td>\n",
       "      <td>0.254291</td>\n",
       "    </tr>\n",
       "    <tr>\n",
       "      <th>9</th>\n",
       "      <td>merchant_info_subtitle</td>\n",
       "      <td>18.690401</td>\n",
       "    </tr>\n",
       "  </tbody>\n",
       "</table>\n",
       "</div>"
      ],
      "text/plain": [
       "                         var  perc_nulos\n",
       "0          rating_five_count    2.860776\n",
       "1          rating_four_count    2.860776\n",
       "2         rating_three_count    2.860776\n",
       "3           rating_two_count    2.860776\n",
       "4           rating_one_count    2.860776\n",
       "5              product_color    2.606484\n",
       "6  product_variation_size_id    0.890019\n",
       "7             origin_country    1.080737\n",
       "8              merchant_name    0.254291\n",
       "9     merchant_info_subtitle   18.690401"
      ]
     },
     "execution_count": 26,
     "metadata": {},
     "output_type": "execute_result"
    }
   ],
   "source": [
    "nulos"
   ]
  },
  {
   "cell_type": "code",
   "execution_count": null,
   "id": "6cd0047e",
   "metadata": {},
   "outputs": [],
   "source": [
    "# analisis numerico\n",
    "# rating_five_count\t2.860776\n",
    "#1\trating_four_count\t2.860776\n",
    "#2\trating_three_count\t2.860776\n",
    "#3\trating_two_count\t2.860776\n",
    "#4\trating_one_count\t2.860776\n",
    "# todas son porcentaje bajo y asimétricas= imputación con mediana"
   ]
  },
  {
   "cell_type": "code",
   "execution_count": null,
   "id": "5e4198de",
   "metadata": {},
   "outputs": [],
   "source": [
    "# analisis categórico\n",
    "# product_color tiene porcentaje bajo, no categoria dominante= nueva categoria\n",
    "# product_variation_size_id tiene porcentaje bajo,categoria dominante = imputar con moda\n",
    "# origin_country tiene porcentaje bajo,categoria dominante = imputar con moda\n",
    "# merchant_name tiene porcentaje bajo y no categpria dominante = nueva categoria\n",
    "# merchant_info_subtitle tiene alto porcentaje y no categoria dominante se impota con la moda"
   ]
  },
  {
   "cell_type": "code",
   "execution_count": 28,
   "id": "2d854477",
   "metadata": {},
   "outputs": [],
   "source": [
    "# Categóricas - Moda\n",
    "\n",
    "# 1. Calcular la moda\n",
    "\n",
    "\n",
    "# ---------------- product_size ----------------------------\n",
    "\n",
    "moda_product_size = data4['product_variation_size_id'].mode()[0] \n",
    "data4['product_variation_size_id'] = data4['product_variation_size_id'].fillna(moda_product_size)\n",
    "\n",
    "\n",
    "\n",
    "\n",
    "# ---------------- country ----------------------------\n",
    "\n",
    "moda_country = data4['origin_country'].mode()[0] \n",
    "data4['origin_country'] = data4['origin_country'].fillna(moda_country)\n",
    "\n",
    "\n",
    "\n",
    "# ---------------- info_subtitle ----------------------------\n",
    "\n",
    "\n",
    "info_subtitle = data4['merchant_info_subtitle'].mode()[0] \n",
    "data4['merchant_info_subtitle'] = data4['merchant_info_subtitle'].fillna(info_subtitle)\n",
    "\n"
   ]
  },
  {
   "cell_type": "code",
   "execution_count": 29,
   "id": "46175031",
   "metadata": {},
   "outputs": [
    {
     "data": {
      "text/plain": [
       "title                           0\n",
       "price                           0\n",
       "retail_price                    0\n",
       "units_sold                      0\n",
       "uses_ad_boosts                  0\n",
       "rating_sold                     0\n",
       "rating_count                    0\n",
       "rating_five_count              45\n",
       "rating_four_count              45\n",
       "rating_three_count             45\n",
       "rating_two_count               45\n",
       "rating_one_count               45\n",
       "badge_local_product             0\n",
       "badge_product_quality           0\n",
       "badge_fast_shipping             0\n",
       "tags                            0\n",
       "product_color                  41\n",
       "product_variation_size_id       0\n",
       "shipping_option_name            0\n",
       "shipping_option_price           0\n",
       "shipping_is_express             0\n",
       "countries_shipped_to            0\n",
       "inventory_total                 0\n",
       "origin_country                  0\n",
       "merchant_name                   4\n",
       "merchant_info_subtitle          0\n",
       "merchant_rating_count           0\n",
       "merchant_id                     0\n",
       "product_url                     0\n",
       "product_id                      0\n",
       "listed_products                 0\n",
       "total_units_sold                0\n",
       "mean_units_sold_per_product     0\n",
       "rating_employee                 0\n",
       "merchant_ratings_count          0\n",
       "mean_product_prices             0\n",
       "mean_retail_prices              0\n",
       "mean_product_ratings_count      0\n",
       "discount_percentage             0\n",
       "seller_reputation               0\n",
       "dtype: int64"
      ]
     },
     "execution_count": 29,
     "metadata": {},
     "output_type": "execute_result"
    }
   ],
   "source": [
    "nulos = data4.isnull().sum()\n",
    "nulos"
   ]
  },
  {
   "cell_type": "code",
   "execution_count": 30,
   "id": "9f6c2652",
   "metadata": {},
   "outputs": [],
   "source": [
    "data4['product_color'] = data4['product_color'].fillna('Unknown')\n",
    "data4['merchant_name'] = data4['merchant_name'].fillna('Unknown')"
   ]
  },
  {
   "cell_type": "code",
   "execution_count": 31,
   "id": "c66486e9",
   "metadata": {},
   "outputs": [
    {
     "data": {
      "text/plain": [
       "title                           0\n",
       "price                           0\n",
       "retail_price                    0\n",
       "units_sold                      0\n",
       "uses_ad_boosts                  0\n",
       "rating_sold                     0\n",
       "rating_count                    0\n",
       "rating_five_count              45\n",
       "rating_four_count              45\n",
       "rating_three_count             45\n",
       "rating_two_count               45\n",
       "rating_one_count               45\n",
       "badge_local_product             0\n",
       "badge_product_quality           0\n",
       "badge_fast_shipping             0\n",
       "tags                            0\n",
       "product_color                   0\n",
       "product_variation_size_id       0\n",
       "shipping_option_name            0\n",
       "shipping_option_price           0\n",
       "shipping_is_express             0\n",
       "countries_shipped_to            0\n",
       "inventory_total                 0\n",
       "origin_country                  0\n",
       "merchant_name                   0\n",
       "merchant_info_subtitle          0\n",
       "merchant_rating_count           0\n",
       "merchant_id                     0\n",
       "product_url                     0\n",
       "product_id                      0\n",
       "listed_products                 0\n",
       "total_units_sold                0\n",
       "mean_units_sold_per_product     0\n",
       "rating_employee                 0\n",
       "merchant_ratings_count          0\n",
       "mean_product_prices             0\n",
       "mean_retail_prices              0\n",
       "mean_product_ratings_count      0\n",
       "discount_percentage             0\n",
       "seller_reputation               0\n",
       "dtype: int64"
      ]
     },
     "execution_count": 31,
     "metadata": {},
     "output_type": "execute_result"
    }
   ],
   "source": [
    "nulos = data4.isnull().sum()\n",
    "nulos"
   ]
  },
  {
   "cell_type": "code",
   "execution_count": 32,
   "id": "af302f02",
   "metadata": {},
   "outputs": [
    {
     "data": {
      "text/plain": [
       "array(['white', 'green', 'red', 'black', 'leopardprint', 'blue', 'purple',\n",
       "       'yellow', 'navyblue', 'beige', 'rosered', 'grey', 'claret',\n",
       "       'lightblue', 'orange', 'pink', 'black & green', 'lightyellow',\n",
       "       'Black', 'navy', 'winered', 'armygreen', 'khaki', 'Unknown',\n",
       "       'red & blue', 'coffee', 'multicolor', 'blue & pink', 'floral',\n",
       "       'RED', 'coolblack', 'white & green', 'navy blue', 'nude',\n",
       "       'whitefloral', 'dustypink', 'skyblue', 'black & white',\n",
       "       'fluorescentgreen', 'gray', 'orange & camouflage', 'camouflage',\n",
       "       'brown', 'lightpink', 'pink & black', 'white & red', 'silver',\n",
       "       'Army green', 'lightgreen', 'mintgreen', 'pink & grey', 'wine',\n",
       "       'rose', 'light green', 'leopard', 'orange-red', 'gray & white',\n",
       "       'White', 'Pink', 'watermelonred', 'Blue', 'star', 'white & black',\n",
       "       'apricot', 'burgundy', 'wine red', 'pink & white', 'offwhite',\n",
       "       'blackwhite', 'tan', 'lightred', 'black & blue', 'coralred',\n",
       "       'lakeblue', 'darkblue', 'camel', 'winered & yellow', 'applegreen',\n",
       "       'pink & blue', 'lightpurple', 'black & stripe', 'army', 'Rose red',\n",
       "       'greysnakeskinprint', 'denimblue', 'lightgray', 'brown & yellow',\n",
       "       'army green', 'whitestripe', 'rainbow', 'lightgrey',\n",
       "       'prussianblue', 'navyblue & white', 'ivory', 'black & yellow',\n",
       "       'jasper', 'lightkhaki', 'offblack', 'violet', 'darkgreen',\n",
       "       'rosegold', 'gold'], dtype=object)"
      ]
     },
     "execution_count": 32,
     "metadata": {},
     "output_type": "execute_result"
    }
   ],
   "source": [
    "data4['product_color'].unique()\n"
   ]
  },
  {
   "cell_type": "code",
   "execution_count": 33,
   "id": "8471fe7c",
   "metadata": {},
   "outputs": [
    {
     "data": {
      "text/plain": [
       "title                           0\n",
       "price                           0\n",
       "retail_price                    0\n",
       "units_sold                      0\n",
       "uses_ad_boosts                  0\n",
       "rating_sold                     0\n",
       "rating_count                    0\n",
       "rating_five_count              45\n",
       "rating_four_count              45\n",
       "rating_three_count             45\n",
       "rating_two_count               45\n",
       "rating_one_count               45\n",
       "badge_local_product             0\n",
       "badge_product_quality           0\n",
       "badge_fast_shipping             0\n",
       "tags                            0\n",
       "product_color                   0\n",
       "product_variation_size_id       0\n",
       "shipping_option_name            0\n",
       "shipping_option_price           0\n",
       "shipping_is_express             0\n",
       "countries_shipped_to            0\n",
       "inventory_total                 0\n",
       "origin_country                  0\n",
       "merchant_name                   0\n",
       "merchant_info_subtitle          0\n",
       "merchant_rating_count           0\n",
       "merchant_id                     0\n",
       "product_url                     0\n",
       "product_id                      0\n",
       "listed_products                 0\n",
       "total_units_sold                0\n",
       "mean_units_sold_per_product     0\n",
       "rating_employee                 0\n",
       "merchant_ratings_count          0\n",
       "mean_product_prices             0\n",
       "mean_retail_prices              0\n",
       "mean_product_ratings_count      0\n",
       "discount_percentage             0\n",
       "seller_reputation               0\n",
       "dtype: int64"
      ]
     },
     "execution_count": 33,
     "metadata": {},
     "output_type": "execute_result"
    }
   ],
   "source": []
  },
  {
   "cell_type": "code",
   "execution_count": 34,
   "id": "8b1e7347",
   "metadata": {},
   "outputs": [
    {
     "data": {
      "text/plain": [
       "title                           0\n",
       "price                           0\n",
       "retail_price                    0\n",
       "units_sold                      0\n",
       "uses_ad_boosts                  0\n",
       "rating_sold                     0\n",
       "rating_count                    0\n",
       "rating_five_count              45\n",
       "rating_four_count              45\n",
       "rating_three_count             45\n",
       "rating_two_count               45\n",
       "rating_one_count               45\n",
       "badge_local_product             0\n",
       "badge_product_quality           0\n",
       "badge_fast_shipping             0\n",
       "tags                            0\n",
       "product_color                   0\n",
       "product_variation_size_id       0\n",
       "shipping_option_name            0\n",
       "shipping_option_price           0\n",
       "shipping_is_express             0\n",
       "countries_shipped_to            0\n",
       "inventory_total                 0\n",
       "origin_country                  0\n",
       "merchant_name                   0\n",
       "merchant_info_subtitle          0\n",
       "merchant_rating_count           0\n",
       "merchant_id                     0\n",
       "product_url                     0\n",
       "product_id                      0\n",
       "listed_products                 0\n",
       "total_units_sold                0\n",
       "mean_units_sold_per_product     0\n",
       "rating_employee                 0\n",
       "merchant_ratings_count          0\n",
       "mean_product_prices             0\n",
       "mean_retail_prices              0\n",
       "mean_product_ratings_count      0\n",
       "discount_percentage             0\n",
       "seller_reputation               0\n",
       "dtype: int64"
      ]
     },
     "execution_count": 34,
     "metadata": {},
     "output_type": "execute_result"
    }
   ],
   "source": [
    "nulos"
   ]
  },
  {
   "cell_type": "code",
   "execution_count": 37,
   "id": "8e68824f",
   "metadata": {},
   "outputs": [],
   "source": [
    "# Numéricas - Mediana\n",
    "\n",
    "# ---------------- five ----------------------------\n",
    "mediana_five = float(data4['rating_five_count'].median())\n",
    "data4['rating_five_count'] = data4['rating_five_count'].fillna(mediana_five)\n",
    "\n",
    "\n",
    "# ---------------- four----------------------------\n",
    "\n",
    "mediana_four = float(data4['rating_four_count'].median())\n",
    "data4['rating_four_count'] = data4['rating_four_count'].fillna(mediana_four)\n",
    "\n",
    "# ---------------- three----------------------------\n",
    "\n",
    "mediana_three= float(data4['rating_three_count'].median())\n",
    "data4['rating_three_count'] = data4['rating_three_count'].fillna(mediana_three)\n",
    "\n",
    "# ---------------- two ----------------------------\n",
    "mediana_two = float(data4['rating_two_count'].median())\n",
    "data4['rating_two_count'] = data4['rating_two_count'].fillna(mediana_two)\n",
    "\n",
    "# ---------------- one----------------------------\n",
    "mediana_one = float(data4['rating_one_count'].median())\n",
    "data4['rating_one_count'] = data4['rating_one_count'].fillna(mediana_one)"
   ]
  },
  {
   "cell_type": "code",
   "execution_count": 39,
   "id": "6f916368",
   "metadata": {},
   "outputs": [
    {
     "data": {
      "text/plain": [
       "title                          0\n",
       "price                          0\n",
       "retail_price                   0\n",
       "units_sold                     0\n",
       "uses_ad_boosts                 0\n",
       "rating_sold                    0\n",
       "rating_count                   0\n",
       "rating_five_count              0\n",
       "rating_four_count              0\n",
       "rating_three_count             0\n",
       "rating_two_count               0\n",
       "rating_one_count               0\n",
       "badge_local_product            0\n",
       "badge_product_quality          0\n",
       "badge_fast_shipping            0\n",
       "tags                           0\n",
       "product_color                  0\n",
       "product_variation_size_id      0\n",
       "shipping_option_name           0\n",
       "shipping_option_price          0\n",
       "shipping_is_express            0\n",
       "countries_shipped_to           0\n",
       "inventory_total                0\n",
       "origin_country                 0\n",
       "merchant_name                  0\n",
       "merchant_info_subtitle         0\n",
       "merchant_rating_count          0\n",
       "merchant_id                    0\n",
       "product_url                    0\n",
       "product_id                     0\n",
       "listed_products                0\n",
       "total_units_sold               0\n",
       "mean_units_sold_per_product    0\n",
       "rating_employee                0\n",
       "merchant_ratings_count         0\n",
       "mean_product_prices            0\n",
       "mean_retail_prices             0\n",
       "mean_product_ratings_count     0\n",
       "discount_percentage            0\n",
       "seller_reputation              0\n",
       "dtype: int64"
      ]
     },
     "execution_count": 39,
     "metadata": {},
     "output_type": "execute_result"
    }
   ],
   "source": [
    "nulos = data4.isnull().sum()\n",
    "nulos"
   ]
  },
  {
   "cell_type": "code",
   "execution_count": 40,
   "id": "31774cf7",
   "metadata": {},
   "outputs": [],
   "source": [
    "data4.to_csv('Merchant_ejercicios_apply.csv.csv', index=False)"
   ]
  }
 ],
 "metadata": {
  "kernelspec": {
   "display_name": "base",
   "language": "python",
   "name": "python3"
  },
  "language_info": {
   "codemirror_mode": {
    "name": "ipython",
    "version": 3
   },
   "file_extension": ".py",
   "mimetype": "text/x-python",
   "name": "python",
   "nbconvert_exporter": "python",
   "pygments_lexer": "ipython3",
   "version": "3.12.7"
  }
 },
 "nbformat": 4,
 "nbformat_minor": 5
}
