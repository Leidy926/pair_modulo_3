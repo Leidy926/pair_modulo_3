{
 "cells": [
  {
   "cell_type": "code",
   "execution_count": 1,
   "id": "eadb8203",
   "metadata": {},
   "outputs": [
    {
     "name": "stdout",
     "output_type": "stream",
     "text": [
      "Defaulting to user installation because normal site-packages is not writeable\n",
      "Requirement already satisfied: numpy in c:\\programdata\\anaconda3\\lib\\site-packages (1.26.4)\n"
     ]
    }
   ],
   "source": [
    "! pip install numpy"
   ]
  },
  {
   "cell_type": "code",
   "execution_count": 2,
   "id": "c0680983",
   "metadata": {},
   "outputs": [
    {
     "name": "stderr",
     "output_type": "stream",
     "text": [
      "UsageError: Line magic function `%` not found.\n"
     ]
    }
   ],
   "source": [
    "% pip install numpy"
   ]
  },
  {
   "cell_type": "code",
   "execution_count": 3,
   "id": "15a8f408",
   "metadata": {},
   "outputs": [
    {
     "name": "stdout",
     "output_type": "stream",
     "text": [
      "Defaulting to user installation because normal site-packages is not writeable\n",
      "Requirement already satisfied: numpy in c:\\programdata\\anaconda3\\lib\\site-packages (1.26.4)\n",
      "Note: you may need to restart the kernel to use updated packages.\n"
     ]
    }
   ],
   "source": [
    "pip install numpy"
   ]
  },
  {
   "cell_type": "code",
   "execution_count": 4,
   "id": "bdd831d5",
   "metadata": {},
   "outputs": [],
   "source": [
    "import numpy as np"
   ]
  },
  {
   "cell_type": "code",
   "execution_count": 6,
   "id": "4fd233f3",
   "metadata": {},
   "outputs": [
    {
     "data": {
      "text/plain": [
       "array([[0.0000e+000, 0.0000e+000],\n",
       "       [0.0000e+000, 0.0000e+000],\n",
       "       [0.0000e+000, 1.1897e-320],\n",
       "       [0.0000e+000, 0.0000e+000]])"
      ]
     },
     "execution_count": 6,
     "metadata": {},
     "output_type": "execute_result"
    }
   ],
   "source": [
    "array_bidi_ = np.empty((4,2))\n",
    "array_bidi_"
   ]
  },
  {
   "cell_type": "markdown",
   "id": "6d67c264",
   "metadata": {},
   "source": [
    "# Genera un array bidimensional de 4 x 3 con valores aleatorios enteros entre el 34 y el 98. Una vez creado cada array comprueba las dimensiones y los tipos de datos que tenemos en el array."
   ]
  },
  {
   "cell_type": "code",
   "execution_count": 7,
   "id": "0c159307",
   "metadata": {},
   "outputs": [
    {
     "data": {
      "text/plain": [
       "array([[82, 75, 50],\n",
       "       [60, 80, 92],\n",
       "       [40, 51, 67],\n",
       "       [90, 38, 69]])"
      ]
     },
     "execution_count": 7,
     "metadata": {},
     "output_type": "execute_result"
    }
   ],
   "source": [
    "array_randint_bi= np.random.randint(34, 98, (4,3))\n",
    "array_randint_bi"
   ]
  },
  {
   "cell_type": "markdown",
   "id": "c230bf28",
   "metadata": {},
   "source": [
    "# Crea dos arrays (unidimensional, bidimensional) usando el método np.array().\n",
    "\n",
    "# Las listas para crear los arrays son las siguientes"
   ]
  },
  {
   "cell_type": "code",
   "execution_count": null,
   "id": "8c3cb5dd",
   "metadata": {},
   "outputs": [],
   "source": [
    "# listas\n",
    "lista1 = [34,56,71,98, 10]\n",
    "lista2 = [[23,45,89, 56], [12,43,82,44]]"
   ]
  },
  {
   "cell_type": "code",
   "execution_count": 9,
   "id": "c0d0ce18",
   "metadata": {},
   "outputs": [
    {
     "data": {
      "text/plain": [
       "array([34, 56, 71, 98, 10])"
      ]
     },
     "execution_count": 9,
     "metadata": {},
     "output_type": "execute_result"
    }
   ],
   "source": [
    "lista1 = [34,56,71,98, 10]\n",
    "array_unidi=np.array (lista1)\n",
    "array_unidi"
   ]
  },
  {
   "cell_type": "code",
   "execution_count": 10,
   "id": "21cb2321",
   "metadata": {},
   "outputs": [
    {
     "data": {
      "text/plain": [
       "array([[23, 45, 89, 56],\n",
       "       [12, 43, 82, 44]])"
      ]
     },
     "execution_count": 10,
     "metadata": {},
     "output_type": "execute_result"
    }
   ],
   "source": [
    "lista2 = [[23,45,89, 56], [12,43,82,44]]\n",
    "array_bidi=np.array (lista2)\n",
    "array_bidi"
   ]
  },
  {
   "cell_type": "markdown",
   "id": "482ab8a3",
   "metadata": {},
   "source": [
    "# Crea un array unidimensional con 50 elementos con el método que prefieras y extrae:\n",
    "\n",
    "# El primer elemento.\n",
    "\n",
    "# Lo elementos que están en posición impar.\n",
    "\n",
    "# Los cuatro primeros elementos.\n",
    "\n",
    "# Los últimos tres elementos.\n",
    "\n",
    "# Los elementos entre el 4 y el 8 (incluido)."
   ]
  },
  {
   "cell_type": "code",
   "execution_count": 14,
   "id": "4eb7e838",
   "metadata": {},
   "outputs": [
    {
     "data": {
      "text/plain": [
       "array([ 0,  1,  2,  3,  4,  5,  6,  7,  8,  9, 10, 11, 12, 13, 14, 15, 16,\n",
       "       17, 18, 19, 20, 21, 22, 23, 24, 25, 26, 27, 28, 29, 30, 31, 32, 33,\n",
       "       34, 35, 36, 37, 38, 39, 40, 41, 42, 43, 44, 45, 46, 47, 48, 49, 50])"
      ]
     },
     "execution_count": 14,
     "metadata": {},
     "output_type": "execute_result"
    }
   ],
   "source": [
    "array_unidi= np.arange (51)\n",
    "array_unidi"
   ]
  },
  {
   "cell_type": "code",
   "execution_count": null,
   "id": "b3116e8a",
   "metadata": {},
   "outputs": [
    {
     "data": {
      "text/plain": [
       "0"
      ]
     },
     "execution_count": 18,
     "metadata": {},
     "output_type": "execute_result"
    }
   ],
   "source": [
    "array_unidi [0] # primer elemento"
   ]
  },
  {
   "cell_type": "code",
   "execution_count": null,
   "id": "f942df41",
   "metadata": {},
   "outputs": [
    {
     "data": {
      "text/plain": [
       "array([ 1,  3,  5,  7,  9, 11, 13, 15, 17, 19, 21, 23, 25, 27, 29, 31, 33,\n",
       "       35, 37, 39, 41, 43, 45, 47, 49])"
      ]
     },
     "execution_count": 22,
     "metadata": {},
     "output_type": "execute_result"
    }
   ],
   "source": [
    "array_unidi [1::2] # elementos en posiciones impares"
   ]
  },
  {
   "cell_type": "code",
   "execution_count": null,
   "id": "1e3bd1c6",
   "metadata": {},
   "outputs": [
    {
     "data": {
      "text/plain": [
       "array([0, 1, 2, 3])"
      ]
     },
     "execution_count": 23,
     "metadata": {},
     "output_type": "execute_result"
    }
   ],
   "source": [
    "array_unidi [:4] # primeros 4 elementos"
   ]
  },
  {
   "cell_type": "code",
   "execution_count": null,
   "id": "bdd4e139",
   "metadata": {},
   "outputs": [
    {
     "data": {
      "text/plain": [
       "array([48, 49, 50])"
      ]
     },
     "execution_count": 24,
     "metadata": {},
     "output_type": "execute_result"
    }
   ],
   "source": [
    "array_unidi [-3:] # últimos 3 elementos"
   ]
  },
  {
   "cell_type": "code",
   "execution_count": null,
   "id": "ca1c5650",
   "metadata": {},
   "outputs": [
    {
     "data": {
      "text/plain": [
       "array([4, 5, 6, 7, 8])"
      ]
     },
     "execution_count": 25,
     "metadata": {},
     "output_type": "execute_result"
    }
   ],
   "source": [
    "array_unidi [4:9] # elementos de la posición 4 a la 8"
   ]
  },
  {
   "cell_type": "markdown",
   "id": "111c493e",
   "metadata": {},
   "source": [
    "# Crea un array de dos dimensiones de 4 x 5 con el método que prefieras y extrae:\n",
    "\n",
    "# La primera fila y todas las columnas.\n",
    "\n",
    "# Todas las filas pares.\n",
    "\n",
    "# La primera columna y todas las filas."
   ]
  },
  {
   "cell_type": "code",
   "execution_count": null,
   "id": "9e398487",
   "metadata": {},
   "outputs": [],
   "source": []
  },
  {
   "cell_type": "code",
   "execution_count": null,
   "id": "de3d4d4a",
   "metadata": {},
   "outputs": [],
   "source": []
  },
  {
   "cell_type": "code",
   "execution_count": null,
   "id": "daed0c9d",
   "metadata": {},
   "outputs": [],
   "source": []
  },
  {
   "cell_type": "markdown",
   "id": "a3b97633",
   "metadata": {},
   "source": []
  },
  {
   "cell_type": "code",
   "execution_count": null,
   "id": "069e3eb1",
   "metadata": {},
   "outputs": [],
   "source": []
  }
 ],
 "metadata": {
  "kernelspec": {
   "display_name": "base",
   "language": "python",
   "name": "python3"
  },
  "language_info": {
   "codemirror_mode": {
    "name": "ipython",
    "version": 3
   },
   "file_extension": ".py",
   "mimetype": "text/x-python",
   "name": "python",
   "nbconvert_exporter": "python",
   "pygments_lexer": "ipython3",
   "version": "3.12.7"
  }
 },
 "nbformat": 4,
 "nbformat_minor": 5
}
